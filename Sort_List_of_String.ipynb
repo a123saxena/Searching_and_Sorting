{
 "cells": [
  {
   "cell_type": "code",
   "execution_count": null,
   "metadata": {},
   "outputs": [],
   "source": [
    "def sort_strings_like_dict(input_list):\n",
    "    sorted_list = sorted(input_list, key=lambda x: (len(x), x))\n",
    "    return sorted_list\n",
    "\n",
    "input_strings = input(\"Enter a list of strings (comma-separated): \")\n",
    "# Split the input string into a list of strings\n",
    "input_strings = input_strings.split(',')\n",
    "\n",
    "# Trim whitespace from each string in the list\n",
    "input_strings = [s.strip() for s in input_strings]\n",
    "\n",
    "sorted_strings = sort_strings_like_dict(input_strings)\n",
    "\n",
    "print(\"Original list:\", input_strings)\n",
    "print(\"Sorted list:\", sorted_strings)\n"
   ]
  }
 ],
 "metadata": {
  "kernelspec": {
   "display_name": "Python 3",
   "language": "python",
   "name": "python3"
  },
  "language_info": {
   "codemirror_mode": {
    "name": "ipython",
    "version": 3
   },
   "file_extension": ".py",
   "mimetype": "text/x-python",
   "name": "python",
   "nbconvert_exporter": "python",
   "pygments_lexer": "ipython3",
   "version": "3.12.0"
  }
 },
 "nbformat": 4,
 "nbformat_minor": 2
}
