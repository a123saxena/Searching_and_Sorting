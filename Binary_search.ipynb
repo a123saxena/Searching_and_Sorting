{
 "cells": [
  {
   "cell_type": "code",
   "execution_count": null,
   "metadata": {},
   "outputs": [],
   "source": [
    "def binary_search(arr, target):\n",
    "    # Sort the array\n",
    "    arr.sort()\n",
    "\n",
    "    low, high = 0, len(arr) - 1\n",
    "\n",
    "    while low <= high:\n",
    "        mid = (low + high) // 2\n",
    "        mid_value = arr[mid]\n",
    "\n",
    "        if mid_value == target:\n",
    "            return mid  # Element found, return its index\n",
    "        elif mid_value < target:\n",
    "            low = mid + 1\n",
    "        else:\n",
    "            high = mid - 1\n",
    "\n",
    "    return -1  # Element not found\n",
    "\n",
    "try:\n",
    "    elements = list(map(int, input(\"Enter an unsorted list of numbers (space-separated): \").split()))\n",
    "    target = int(input(\"Enter the number to search for: \"))\n",
    "except ValueError:\n",
    "    print(\"Invalid input. Please enter valid integers.\")\n",
    "    exit()\n",
    "\n",
    "# Perform binary search on the unsorted array\n",
    "result = binary_search(elements, target)\n",
    "\n",
    "# Display the result\n",
    "if result != -1:\n",
    "    print(f\"{target} found at index {result}\")\n",
    "else:\n",
    "    print(f\"{target} not found in the list.\")\n"
   ]
  }
 ],
 "metadata": {
  "language_info": {
   "name": "python"
  }
 },
 "nbformat": 4,
 "nbformat_minor": 2
}
